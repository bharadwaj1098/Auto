{
 "cells": [
  {
   "cell_type": "code",
   "execution_count": 15,
   "source": [
    "import numpy as np\n",
    "import pandas as pd \n",
    "import matplotlib.pyplot as plt\n",
    "from sympy import * \n",
    "import random\n",
    "import yaml\n",
    "from scipy.integrate import odeint  \n",
    "\n",
    "from haptic import haptic_class, haptic_actual\n",
    "from spring_damp import mass_damp_spring \n",
    "from random import randint \n",
    "\n",
    "number = 5#number of different dynamics +\n",
    "\n",
    "# m=0.005-0.01, b=0.1-0.2, k=1-10\n",
    "\n",
    "with open('Human_Auto.yaml') as File: #linear error\n",
    "    d = yaml.load(File, Loader=yaml.FullLoader)\n",
    "\n",
    "empty = []\n",
    "\n",
    "for i in range(10): #lets see how many we can manage to get\n",
    "\n",
    "    m1 = mass_damp_spring(time = d['time'], increment = d['increment'], state= d['state'], #state_actually doesn't matter for sprring_damp_class\n",
    "                    force = sin, amplitude= d['args_dict_h']['amplitude'], omega=d['args_dict_h']['omega'], \n",
    "                    no_mass = d['args_dict_h']['no_mass'], range_mass= d['args_dict_h']['range_mass'], \n",
    "                    no_spring= d['args_dict_h']['no_spring'], range_spring = d['args_dict_h']['range_spring'], \n",
    "                    no_damp = d['args_dict_h']['no_damp'], range_damp= d['args_dict_h']['range_damp'], uniform=1) \n",
    "\n",
    "    m2 = mass_damp_spring(time = d['time'], increment = d['increment'], state= d['state'], #state_actually doesn't matter for sprring_damp_class\n",
    "                    force = cos, amplitude= d['args_dict_h']['amplitude'], omega=d['args_dict_h']['omega'], \n",
    "                    no_mass = d['args_dict_h']['no_mass'], range_mass= d['args_dict_h']['range_mass'], \n",
    "                    no_spring= d['args_dict_h']['no_spring'], range_spring = d['args_dict_h']['range_spring'], \n",
    "                    no_damp = d['args_dict_h']['no_damp'], range_damp= d['args_dict_h']['range_damp'], uniform=1)\n",
    "    \n",
    "    print(i, len(m1.mass), len(m2.mass))\n",
    "\n",
    "    hap = haptic_class(dic = d, Theta_h=sin, Theta_a=cos) \n",
    "    df = hap.dataframe()\n",
    "\n",
    "    path = f'Data/Linear_error/linear_error_{i+7}.csv' #if code breaks inbetween change {i+1} to number of files in {Linear_error folder + i}\n",
    "    # in normal case keep it {i+1}\n",
    "\n",
    "    df['no_sim'] = i+1 \n",
    "\n",
    "    df.to_csv(path)\n",
    "    "
   ],
   "outputs": [],
   "metadata": {}
  },
  {
   "cell_type": "code",
   "execution_count": 1,
   "source": [
    "x = 1\n",
    "print(f'x = {x}') "
   ],
   "outputs": [
    {
     "output_type": "stream",
     "name": "stdout",
     "text": [
      "x = 1\n"
     ]
    }
   ],
   "metadata": {}
  },
  {
   "cell_type": "code",
   "execution_count": null,
   "source": [],
   "outputs": [],
   "metadata": {}
  },
  {
   "cell_type": "code",
   "execution_count": null,
   "source": [],
   "outputs": [],
   "metadata": {}
  },
  {
   "cell_type": "code",
   "execution_count": null,
   "source": [],
   "outputs": [],
   "metadata": {}
  },
  {
   "cell_type": "code",
   "execution_count": null,
   "source": [],
   "outputs": [],
   "metadata": {}
  },
  {
   "cell_type": "code",
   "execution_count": null,
   "source": [],
   "outputs": [],
   "metadata": {}
  },
  {
   "cell_type": "code",
   "execution_count": 37,
   "source": [
    "class Data:\n",
    "    def __init__(self, dic, Theta_h, Theta_a):\n",
    "        self.dic = dic \n",
    "        self.time_array = np.arange(0, dic['time'] + dic['increment'], dic['increment'])\n",
    "        self.sensor_spring = dic['sensor_spring'] #K_T\n",
    "        self.sw_mass = dic['sw_mass']\n",
    "        self.state = dic['state']\n",
    "        self.Theta_h = Theta_h\n",
    "        self.Theta_a = Theta_a \n",
    "        self.G = dic['G'] # r_s/r_m\n",
    "        self.T_v = dic['T_v']\n",
    "        self.J_sm = dic['J_sm'] #[j_s, j_m]\n",
    "        self.args_dict_h = dic['args_dict_h']\n",
    "        self.args_dict_a = dic['args_dict_a']\n",
    "\n",
    "        self.product = int(1 / (dic['increment']))  \n",
    "\n",
    "        self.theta_h = self._intention(Theta_h, omega = dic['args_dict_h']['omega'], amplitude = dic['args_dict_h']['amplitude'])\n",
    "        self.theta_a = self._intention(Theta_a, omega = dic['args_dict_a']['omega'], amplitude = dic['args_dict_a']['amplitude'])\n",
    "\n",
    "        \n",
    "        \n",
    "        self.diff_theta_h = self.Diff_theta(Theta_h, self.args_dict_h['omega'], self.args_dict_h['amplitude'] )\n",
    "        self.diff_theta_a = self.Diff_theta(Theta_a, self.args_dict_a['omega'], self.args_dict_a['amplitude'] )\n",
    "        \n",
    "        #self._vector = odeint(self.callback_func, self.state, self.Theta['H_time'], mxstep = 50000000) if self.flag==1 else [0,0,0,0]\n",
    "        #self.acc_sw, self.acc_s, self.error = self.auto_acc()\n",
    "\n",
    "    def _intention(self, force, omega, amplitude):\n",
    "        _list = []\n",
    "        t = Symbol('t') \n",
    "        if force is not None:\n",
    "            if omega and amplitude is not None:\n",
    "                f =  ((amplitude) * ( force(omega * t) ) )\n",
    "                f = lambdify(t, f)\n",
    "            else:\n",
    "                f = force(t)\n",
    "                f = lambdify(t, f) \n",
    "\n",
    "            for i in self.time_array:\n",
    "                _list.append(f(i))\n",
    "        else:\n",
    "            _list.append(10) #constant\n",
    "        \n",
    "        return _list\n",
    "\n",
    "    def Diff_theta(self, Theta, w, a):\n",
    "        diff_theta = []\n",
    "        t = Symbol('t')\n",
    "        if a is not None and w is not None:\n",
    "            y = a * Theta(w * t)\n",
    "        else :\n",
    "            y = Theta(t)\n",
    "        dt = diff(y, t)\n",
    "        ddt = lambdify(t, dt)\n",
    "        for i in self.time_array:\n",
    "            diff_theta.append(ddt(i)) \n",
    "        return diff_theta  \n",
    "\n",
    "    def _item_time(self, _no, _range, uniform):\n",
    "        '''\n",
    "        uniform = 1 mean the random numbers generated are decimal and \n",
    "        input for range should be or can be in decimal as well [0.01, 0.1]\n",
    "        '''\n",
    "        _len = len(self.time_array)\n",
    "        _time_to_last = [0] * _no\n",
    "        _item = []\n",
    "        _final_item_list = []\n",
    "        k = 0\n",
    "        for i in range(_no):\n",
    "            if uniform is not None: \n",
    "                _item.append(random.uniform(_range[0], _range[1]))\n",
    "            else:\n",
    "                _item.append(randint(_range[0], _range[1]))\n",
    "        for i in range(_len):\n",
    "            _time_to_last[randint(0, _len) % _no] += 1 \n",
    "        for i in _time_to_last:\n",
    "            for j in range(i):\n",
    "                _final_item_list.append(_item[k]) \n",
    "            k += 1\n",
    "\n",
    "        return _final_item_list\n",
    "    \n",
    "    def values(self):\n",
    "        theta = {}\n",
    "        theta['H_mass'] = self._item_time(_no = self.args_dict_h['no_mass'], _range=self.args_dict_h['range_mass'], uniform = 1 )\n",
    "        theta['H_spring'] = self._item_time(_no = self.args_dict_h['no_spring'], _range=self.args_dict_h['range_spring'], uniform = 1 )\n",
    "        theta['H_damp'] = self._item_time(_no = self.args_dict_h['no_damp'], _range=self.args_dict_h['range_damp'], uniform = 1 )\n",
    "\n",
    "        theta['A_mass'] = self._item_time(_no = self.args_dict_a['no_mass'], _range=self.args_dict_a['range_mass'], uniform = 1 )\n",
    "        theta['A_spring'] = self._item_time(_no = self.args_dict_a['no_spring'], _range=self.args_dict_a['range_spring'], uniform = 1 )\n",
    "        theta['A_damp'] = self._item_time(_no = self.args_dict_a['no_damp'], _range=self.args_dict_a['range_damp'], uniform = 1 )\n",
    "\n",
    "        return theta \n",
    "    \n",
    "    def theta_retun(self, name, T):\n",
    "        self.Theta = self.values() \n",
    "\n",
    "        if name=='H_Damp':\n",
    "            return \n",
    "\n",
    "    def callback_func(self, state, t): \n",
    "        T_h = int(t * self.product) \n",
    "        dx1dt = state[1] \n",
    "        b_h = self.Theta['H_damp'][T_h] * (self.diff_theta_h[T_h] - state[1]) \n",
    "        k_h = self.Theta['H_spring'][T_h] * (self.theta_h[T_h] - state[0]) \n",
    "        K_t = self.sensor_spring * (state[0] - state[2]) \n",
    "        j1 = self.sw_mass + self.Theta['H_mass'][T_h] \n",
    "        dx2dt = (b_h + k_h - K_t) * (1/j1)\n",
    "        dx3dt = state[3] \n",
    "        b_a = self.G * self.Theta['A_damp'][T_h] * (self.diff_theta_a[T_h] - (self.G * state[3]))\n",
    "        k_a = self.G * self.Theta['A_spring'][T_h] * (self.theta_a[T_h] - (self.G * state[2])) \n",
    "        dx4dt = (b_a + k_a + K_t + self.T_v) * ( 1 / ((self.G **2) * self.J_sm[1] + self.J_sm[0]) ) \n",
    "        dxdt = [dx1dt, dx2dt, dx3dt, dx4dt] \n",
    "        return dxdt\n",
    "\n",
    "    def auto_acc(self):\n",
    "        self._vector = odeint(self.callback_func, self.state, self.time_array, mxstep = 50000000)\n",
    "        acc_h , acc_a, error = [], [], []\n",
    "        for i in self.time_array:\n",
    "            T = int(i * self.product)\n",
    "            b_h = self.Theta['H_damp'][T] * (self.diff_theta_h[T] - self._vector[:,1][T] )\n",
    "            k_h = self.Theta['H_spring'][T] * (self.theta_h[T] - self._vector[:,0][T] ) \n",
    "            K_t = self.sensor_spring * (self._vector[:,0][T] - self._vector[:,2][T] ) \n",
    "            j1 = self.sw_mass + self.Theta['H_mass'][T]  \n",
    "            acc_h.append( (b_h + k_h - K_t) * (1/j1) )\n",
    "\n",
    "            b_a = self.G * self.Theta['A_damp'][T] * (self.diff_theta_a[T] - (self.G * self._vector[:,3][T] ) )\n",
    "            k_a = self.G * self.Theta['A_spring'][T] * (self.theta_a[T] - (self.G * self._vector[:,2][T] ) ) \n",
    "            deno = ( 1 / ( (self.G **2) * self.J_sm[1] + self.J_sm[0] ) ) \n",
    "            num = (b_a + k_a + K_t + self.T_v) \n",
    "            acc_a.append(num * deno) \n",
    "\n",
    "            delta_b_h = self.dic['delta_B_H'] * (self.diff_theta_h[T] - self._vector[:,1][T] )\n",
    "            delta_k_h = self.dic['delta_K_H'] * (self.theta_h[T] - self._vector[:,0][T] ) \n",
    "            a = (delta_b_h + delta_k_h) * (1/j1)\n",
    "\n",
    "            delta_b_a = self.G * self.dic['delta_B_A'] * (self.diff_theta_a[T] - (self.G * self._vector[:,3][T] ) ) \n",
    "            delta_k_a = self.G * self.dic['delta_K_A'] * (self.theta_a[T] - (self.G * self._vector[:,2][T] ) )\n",
    "            b = (delta_b_a + delta_k_a) * deno  \n",
    "            error.append( [a, b] )\n",
    "\n",
    "        return acc_h, acc_a, np.asarray(error)\n",
    "    \n",
    "\n",
    "    def dataframe(self):\n",
    "        Acc_sw, Acc_s, error = self.auto_acc()\n",
    "\n",
    "        D = {\n",
    "            'sim_number' : i+1,\n",
    "            'time_step_H' : self.time_array,\n",
    "            'time_step_A' : self.time_array,\n",
    "            'theta_H' : self.theta_h,\n",
    "            'theta_A' : self.theta_a,\n",
    "            'H_spring' : self.Theta['H_spring'],\n",
    "            'A_spring' : self.Theta['A_spring'],\n",
    "            'H_damp' : self.Theta['H_Damp'],\n",
    "            'A_damp' : self.Theta['A_Damp'],\n",
    "            'H_mass' : self.Theta['H_mass'],\n",
    "            'A_mass' : self.Theta['A_mass'],\n",
    "            'disp_sw': self._vector[:,0],\n",
    "            'disp_s': self._vector[:, 2],\n",
    "            'vel_sw': self._vector[:, 1],\n",
    "            'vel_s': self._vector[:, 3],\n",
    "            'acc_sw': Acc_sw,\n",
    "            'acc_s': Acc_s, \n",
    "            'error_1': error[:, 0], \n",
    "            'error_2': error[:, 1]\n",
    "        } \n",
    "\n",
    "        return pd.DataFrame(D)\n"
   ],
   "outputs": [],
   "metadata": {}
  },
  {
   "cell_type": "code",
   "execution_count": 38,
   "source": [
    "with open('Human_Auto.yaml') as File: #linear error\n",
    "    d = yaml.load(File, Loader=yaml.FullLoader)\n",
    "\n",
    "new = Data(dic = d, Theta_h = sin, Theta_a = cos)"
   ],
   "outputs": [],
   "metadata": {}
  },
  {
   "cell_type": "code",
   "execution_count": 39,
   "source": [
    "df = new.dataframe() "
   ],
   "outputs": [
    {
     "output_type": "error",
     "ename": "IndexError",
     "evalue": "list index out of range",
     "traceback": [
      "\u001b[0;31m---------------------------------------------------------------------------\u001b[0m",
      "\u001b[0;31mIndexError\u001b[0m                                Traceback (most recent call last)",
      "\u001b[0;32m<ipython-input-39-af600fb547b4>\u001b[0m in \u001b[0;36m<module>\u001b[0;34m\u001b[0m\n\u001b[0;32m----> 1\u001b[0;31m \u001b[0mdf\u001b[0m \u001b[0;34m=\u001b[0m \u001b[0mnew\u001b[0m\u001b[0;34m.\u001b[0m\u001b[0mdataframe\u001b[0m\u001b[0;34m(\u001b[0m\u001b[0;34m)\u001b[0m\u001b[0;34m\u001b[0m\u001b[0;34m\u001b[0m\u001b[0m\n\u001b[0m",
      "\u001b[0;32m<ipython-input-37-d8bd9cc6f292>\u001b[0m in \u001b[0;36mdataframe\u001b[0;34m(self)\u001b[0m\n\u001b[1;32m    139\u001b[0m \u001b[0;34m\u001b[0m\u001b[0m\n\u001b[1;32m    140\u001b[0m     \u001b[0;32mdef\u001b[0m \u001b[0mdataframe\u001b[0m\u001b[0;34m(\u001b[0m\u001b[0mself\u001b[0m\u001b[0;34m)\u001b[0m\u001b[0;34m:\u001b[0m\u001b[0;34m\u001b[0m\u001b[0;34m\u001b[0m\u001b[0m\n\u001b[0;32m--> 141\u001b[0;31m         \u001b[0mAcc_sw\u001b[0m\u001b[0;34m,\u001b[0m \u001b[0mAcc_s\u001b[0m\u001b[0;34m,\u001b[0m \u001b[0merror\u001b[0m \u001b[0;34m=\u001b[0m \u001b[0mself\u001b[0m\u001b[0;34m.\u001b[0m\u001b[0mauto_acc\u001b[0m\u001b[0;34m(\u001b[0m\u001b[0;34m)\u001b[0m\u001b[0;34m\u001b[0m\u001b[0;34m\u001b[0m\u001b[0m\n\u001b[0m\u001b[1;32m    142\u001b[0m \u001b[0;34m\u001b[0m\u001b[0m\n\u001b[1;32m    143\u001b[0m         D = {\n",
      "\u001b[0;32m<ipython-input-37-d8bd9cc6f292>\u001b[0m in \u001b[0;36mauto_acc\u001b[0;34m(self)\u001b[0m\n\u001b[1;32m    110\u001b[0m \u001b[0;34m\u001b[0m\u001b[0m\n\u001b[1;32m    111\u001b[0m     \u001b[0;32mdef\u001b[0m \u001b[0mauto_acc\u001b[0m\u001b[0;34m(\u001b[0m\u001b[0mself\u001b[0m\u001b[0;34m)\u001b[0m\u001b[0;34m:\u001b[0m\u001b[0;34m\u001b[0m\u001b[0;34m\u001b[0m\u001b[0m\n\u001b[0;32m--> 112\u001b[0;31m         \u001b[0mself\u001b[0m\u001b[0;34m.\u001b[0m\u001b[0m_vector\u001b[0m \u001b[0;34m=\u001b[0m \u001b[0modeint\u001b[0m\u001b[0;34m(\u001b[0m\u001b[0mself\u001b[0m\u001b[0;34m.\u001b[0m\u001b[0mcallback_func\u001b[0m\u001b[0;34m,\u001b[0m \u001b[0mself\u001b[0m\u001b[0;34m.\u001b[0m\u001b[0mstate\u001b[0m\u001b[0;34m,\u001b[0m \u001b[0mself\u001b[0m\u001b[0;34m.\u001b[0m\u001b[0mtime_array\u001b[0m\u001b[0;34m,\u001b[0m \u001b[0mmxstep\u001b[0m \u001b[0;34m=\u001b[0m \u001b[0;36m50000000\u001b[0m\u001b[0;34m)\u001b[0m\u001b[0;34m\u001b[0m\u001b[0;34m\u001b[0m\u001b[0m\n\u001b[0m\u001b[1;32m    113\u001b[0m         \u001b[0macc_h\u001b[0m \u001b[0;34m,\u001b[0m \u001b[0macc_a\u001b[0m\u001b[0;34m,\u001b[0m \u001b[0merror\u001b[0m \u001b[0;34m=\u001b[0m \u001b[0;34m[\u001b[0m\u001b[0;34m]\u001b[0m\u001b[0;34m,\u001b[0m \u001b[0;34m[\u001b[0m\u001b[0;34m]\u001b[0m\u001b[0;34m,\u001b[0m \u001b[0;34m[\u001b[0m\u001b[0;34m]\u001b[0m\u001b[0;34m\u001b[0m\u001b[0;34m\u001b[0m\u001b[0m\n\u001b[1;32m    114\u001b[0m         \u001b[0;32mfor\u001b[0m \u001b[0mi\u001b[0m \u001b[0;32min\u001b[0m \u001b[0mself\u001b[0m\u001b[0;34m.\u001b[0m\u001b[0mtime_array\u001b[0m\u001b[0;34m:\u001b[0m\u001b[0;34m\u001b[0m\u001b[0;34m\u001b[0m\u001b[0m\n",
      "\u001b[0;32m~/.local/lib/python3.8/site-packages/scipy/integrate/odepack.py\u001b[0m in \u001b[0;36modeint\u001b[0;34m(func, y0, t, args, Dfun, col_deriv, full_output, ml, mu, rtol, atol, tcrit, h0, hmax, hmin, ixpr, mxstep, mxhnil, mxordn, mxords, printmessg, tfirst)\u001b[0m\n\u001b[1;32m    239\u001b[0m     \u001b[0mt\u001b[0m \u001b[0;34m=\u001b[0m \u001b[0mcopy\u001b[0m\u001b[0;34m(\u001b[0m\u001b[0mt\u001b[0m\u001b[0;34m)\u001b[0m\u001b[0;34m\u001b[0m\u001b[0;34m\u001b[0m\u001b[0m\n\u001b[1;32m    240\u001b[0m     \u001b[0my0\u001b[0m \u001b[0;34m=\u001b[0m \u001b[0mcopy\u001b[0m\u001b[0;34m(\u001b[0m\u001b[0my0\u001b[0m\u001b[0;34m)\u001b[0m\u001b[0;34m\u001b[0m\u001b[0;34m\u001b[0m\u001b[0m\n\u001b[0;32m--> 241\u001b[0;31m     output = _odepack.odeint(func, y0, t, args, Dfun, col_deriv, ml, mu,\n\u001b[0m\u001b[1;32m    242\u001b[0m                              \u001b[0mfull_output\u001b[0m\u001b[0;34m,\u001b[0m \u001b[0mrtol\u001b[0m\u001b[0;34m,\u001b[0m \u001b[0matol\u001b[0m\u001b[0;34m,\u001b[0m \u001b[0mtcrit\u001b[0m\u001b[0;34m,\u001b[0m \u001b[0mh0\u001b[0m\u001b[0;34m,\u001b[0m \u001b[0mhmax\u001b[0m\u001b[0;34m,\u001b[0m \u001b[0mhmin\u001b[0m\u001b[0;34m,\u001b[0m\u001b[0;34m\u001b[0m\u001b[0;34m\u001b[0m\u001b[0m\n\u001b[1;32m    243\u001b[0m                              \u001b[0mixpr\u001b[0m\u001b[0;34m,\u001b[0m \u001b[0mmxstep\u001b[0m\u001b[0;34m,\u001b[0m \u001b[0mmxhnil\u001b[0m\u001b[0;34m,\u001b[0m \u001b[0mmxordn\u001b[0m\u001b[0;34m,\u001b[0m \u001b[0mmxords\u001b[0m\u001b[0;34m,\u001b[0m\u001b[0;34m\u001b[0m\u001b[0;34m\u001b[0m\u001b[0m\n",
      "\u001b[0;32m<ipython-input-37-d8bd9cc6f292>\u001b[0m in \u001b[0;36mcallback_func\u001b[0;34m(self, state, t)\u001b[0m\n\u001b[1;32m     97\u001b[0m         \u001b[0mT_h\u001b[0m \u001b[0;34m=\u001b[0m \u001b[0mint\u001b[0m\u001b[0;34m(\u001b[0m\u001b[0mt\u001b[0m \u001b[0;34m*\u001b[0m \u001b[0mself\u001b[0m\u001b[0;34m.\u001b[0m\u001b[0mproduct\u001b[0m\u001b[0;34m)\u001b[0m\u001b[0;34m\u001b[0m\u001b[0;34m\u001b[0m\u001b[0m\n\u001b[1;32m     98\u001b[0m         \u001b[0mdx1dt\u001b[0m \u001b[0;34m=\u001b[0m \u001b[0mstate\u001b[0m\u001b[0;34m[\u001b[0m\u001b[0;36m1\u001b[0m\u001b[0;34m]\u001b[0m\u001b[0;34m\u001b[0m\u001b[0;34m\u001b[0m\u001b[0m\n\u001b[0;32m---> 99\u001b[0;31m         \u001b[0mb_h\u001b[0m \u001b[0;34m=\u001b[0m \u001b[0mself\u001b[0m\u001b[0;34m.\u001b[0m\u001b[0mTheta\u001b[0m\u001b[0;34m[\u001b[0m\u001b[0;34m'H_damp'\u001b[0m\u001b[0;34m]\u001b[0m\u001b[0;34m[\u001b[0m\u001b[0mT_h\u001b[0m\u001b[0;34m]\u001b[0m \u001b[0;34m*\u001b[0m \u001b[0;34m(\u001b[0m\u001b[0mself\u001b[0m\u001b[0;34m.\u001b[0m\u001b[0mdiff_theta_h\u001b[0m\u001b[0;34m[\u001b[0m\u001b[0mT_h\u001b[0m\u001b[0;34m]\u001b[0m \u001b[0;34m-\u001b[0m \u001b[0mstate\u001b[0m\u001b[0;34m[\u001b[0m\u001b[0;36m1\u001b[0m\u001b[0;34m]\u001b[0m\u001b[0;34m)\u001b[0m\u001b[0;34m\u001b[0m\u001b[0;34m\u001b[0m\u001b[0m\n\u001b[0m\u001b[1;32m    100\u001b[0m         \u001b[0mk_h\u001b[0m \u001b[0;34m=\u001b[0m \u001b[0mself\u001b[0m\u001b[0;34m.\u001b[0m\u001b[0mTheta\u001b[0m\u001b[0;34m[\u001b[0m\u001b[0;34m'H_spring'\u001b[0m\u001b[0;34m]\u001b[0m\u001b[0;34m[\u001b[0m\u001b[0mT_h\u001b[0m\u001b[0;34m]\u001b[0m \u001b[0;34m*\u001b[0m \u001b[0;34m(\u001b[0m\u001b[0mself\u001b[0m\u001b[0;34m.\u001b[0m\u001b[0mtheta_h\u001b[0m\u001b[0;34m[\u001b[0m\u001b[0mT_h\u001b[0m\u001b[0;34m]\u001b[0m \u001b[0;34m-\u001b[0m \u001b[0mstate\u001b[0m\u001b[0;34m[\u001b[0m\u001b[0;36m0\u001b[0m\u001b[0;34m]\u001b[0m\u001b[0;34m)\u001b[0m\u001b[0;34m\u001b[0m\u001b[0;34m\u001b[0m\u001b[0m\n\u001b[1;32m    101\u001b[0m         \u001b[0mK_t\u001b[0m \u001b[0;34m=\u001b[0m \u001b[0mself\u001b[0m\u001b[0;34m.\u001b[0m\u001b[0msensor_spring\u001b[0m \u001b[0;34m*\u001b[0m \u001b[0;34m(\u001b[0m\u001b[0mstate\u001b[0m\u001b[0;34m[\u001b[0m\u001b[0;36m0\u001b[0m\u001b[0;34m]\u001b[0m \u001b[0;34m-\u001b[0m \u001b[0mstate\u001b[0m\u001b[0;34m[\u001b[0m\u001b[0;36m2\u001b[0m\u001b[0;34m]\u001b[0m\u001b[0;34m)\u001b[0m\u001b[0;34m\u001b[0m\u001b[0;34m\u001b[0m\u001b[0m\n",
      "\u001b[0;31mIndexError\u001b[0m: list index out of range"
     ]
    }
   ],
   "metadata": {}
  },
  {
   "cell_type": "code",
   "execution_count": 40,
   "source": [
    "a = np.arange(0, 1000+0.01, 0.01)\n",
    "len(a) "
   ],
   "outputs": [
    {
     "output_type": "execute_result",
     "data": {
      "text/plain": [
       "100001"
      ]
     },
     "metadata": {},
     "execution_count": 40
    }
   ],
   "metadata": {}
  },
  {
   "cell_type": "code",
   "execution_count": 45,
   "source": [
    "len(new.Theta['H_damp']), len(new.diff_theta_h)"
   ],
   "outputs": [
    {
     "output_type": "execute_result",
     "data": {
      "text/plain": [
       "(100001, 100001)"
      ]
     },
     "metadata": {},
     "execution_count": 45
    }
   ],
   "metadata": {}
  },
  {
   "cell_type": "code",
   "execution_count": null,
   "source": [],
   "outputs": [],
   "metadata": {}
  },
  {
   "cell_type": "code",
   "execution_count": 7,
   "source": [
    "from scipy.integrate import odeint  \n",
    "\n",
    "time_array = np.arange(0, 10+0.1, 0.1)\n",
    "\n",
    "def _force_list(force, omega, amplitude):\n",
    "    _list = []\n",
    "    t = Symbol('t')\n",
    "    if force is not None:\n",
    "        if omega and amplitude is not None:\n",
    "            f =  ((amplitude) * ( force(omega * t) ) )\n",
    "            f = lambdify(t, f)\n",
    "        else:\n",
    "            f = force(t)\n",
    "            f = lambdify(t, f) \n",
    "\n",
    "        for i in time_array:\n",
    "            _list.append(f(i))\n",
    "    else:\n",
    "        _list.append(10) #constant\n",
    "    \n",
    "    return _list\n",
    "\n",
    "a = _force_list(sin, omega =1, amplitude =1)\n",
    "\n",
    "plt.plot(time_array, a)\n"
   ],
   "outputs": [
    {
     "output_type": "execute_result",
     "data": {
      "text/plain": [
       "[<matplotlib.lines.Line2D at 0x7fe98f779be0>]"
      ]
     },
     "metadata": {},
     "execution_count": 7
    },
    {
     "output_type": "display_data",
     "data": {
      "text/plain": [
       "<Figure size 432x288 with 1 Axes>"
      ],
      "image/svg+xml": "<?xml version=\"1.0\" encoding=\"utf-8\" standalone=\"no\"?>\n<!DOCTYPE svg PUBLIC \"-//W3C//DTD SVG 1.1//EN\"\n  \"http://www.w3.org/Graphics/SVG/1.1/DTD/svg11.dtd\">\n<!-- Created with matplotlib (https://matplotlib.org/) -->\n<svg height=\"248.518125pt\" version=\"1.1\" viewBox=\"0 0 386.845313 248.518125\" width=\"386.845313pt\" xmlns=\"http://www.w3.org/2000/svg\" xmlns:xlink=\"http://www.w3.org/1999/xlink\">\n <metadata>\n  <rdf:RDF xmlns:cc=\"http://creativecommons.org/ns#\" xmlns:dc=\"http://purl.org/dc/elements/1.1/\" xmlns:rdf=\"http://www.w3.org/1999/02/22-rdf-syntax-ns#\">\n   <cc:Work>\n    <dc:type rdf:resource=\"http://purl.org/dc/dcmitype/StillImage\"/>\n    <dc:date>2021-08-10T15:07:26.860666</dc:date>\n    <dc:format>image/svg+xml</dc:format>\n    <dc:creator>\n     <cc:Agent>\n      <dc:title>Matplotlib v3.3.4, https://matplotlib.org/</dc:title>\n     </cc:Agent>\n    </dc:creator>\n   </cc:Work>\n  </rdf:RDF>\n </metadata>\n <defs>\n  <style type=\"text/css\">*{stroke-linecap:butt;stroke-linejoin:round;}</style>\n </defs>\n <g id=\"figure_1\">\n  <g id=\"patch_1\">\n   <path d=\"M 0 248.518125 \nL 386.845313 248.518125 \nL 386.845313 0 \nL 0 0 \nz\n\" style=\"fill:none;\"/>\n  </g>\n  <g id=\"axes_1\">\n   <g id=\"patch_2\">\n    <path d=\"M 44.845313 224.64 \nL 379.645313 224.64 \nL 379.645313 7.2 \nL 44.845313 7.2 \nz\n\" style=\"fill:#ffffff;\"/>\n   </g>\n   <g id=\"matplotlib.axis_1\">\n    <g id=\"xtick_1\">\n     <g id=\"line2d_1\">\n      <defs>\n       <path d=\"M 0 0 \nL 0 3.5 \n\" id=\"m147498ea0e\" style=\"stroke:#000000;stroke-width:0.8;\"/>\n      </defs>\n      <g>\n       <use style=\"stroke:#000000;stroke-width:0.8;\" x=\"60.063494\" xlink:href=\"#m147498ea0e\" y=\"224.64\"/>\n      </g>\n     </g>\n     <g id=\"text_1\">\n      <!-- 0 -->\n      <g transform=\"translate(56.882244 239.238438)scale(0.1 -0.1)\">\n       <defs>\n        <path d=\"M 31.78125 66.40625 \nQ 24.171875 66.40625 20.328125 58.90625 \nQ 16.5 51.421875 16.5 36.375 \nQ 16.5 21.390625 20.328125 13.890625 \nQ 24.171875 6.390625 31.78125 6.390625 \nQ 39.453125 6.390625 43.28125 13.890625 \nQ 47.125 21.390625 47.125 36.375 \nQ 47.125 51.421875 43.28125 58.90625 \nQ 39.453125 66.40625 31.78125 66.40625 \nz\nM 31.78125 74.21875 \nQ 44.046875 74.21875 50.515625 64.515625 \nQ 56.984375 54.828125 56.984375 36.375 \nQ 56.984375 17.96875 50.515625 8.265625 \nQ 44.046875 -1.421875 31.78125 -1.421875 \nQ 19.53125 -1.421875 13.0625 8.265625 \nQ 6.59375 17.96875 6.59375 36.375 \nQ 6.59375 54.828125 13.0625 64.515625 \nQ 19.53125 74.21875 31.78125 74.21875 \nz\n\" id=\"DejaVuSans-48\"/>\n       </defs>\n       <use xlink:href=\"#DejaVuSans-48\"/>\n      </g>\n     </g>\n    </g>\n    <g id=\"xtick_2\">\n     <g id=\"line2d_2\">\n      <g>\n       <use style=\"stroke:#000000;stroke-width:0.8;\" x=\"120.936222\" xlink:href=\"#m147498ea0e\" y=\"224.64\"/>\n      </g>\n     </g>\n     <g id=\"text_2\">\n      <!-- 2 -->\n      <g transform=\"translate(117.754972 239.238438)scale(0.1 -0.1)\">\n       <defs>\n        <path d=\"M 19.1875 8.296875 \nL 53.609375 8.296875 \nL 53.609375 0 \nL 7.328125 0 \nL 7.328125 8.296875 \nQ 12.9375 14.109375 22.625 23.890625 \nQ 32.328125 33.6875 34.8125 36.53125 \nQ 39.546875 41.84375 41.421875 45.53125 \nQ 43.3125 49.21875 43.3125 52.78125 \nQ 43.3125 58.59375 39.234375 62.25 \nQ 35.15625 65.921875 28.609375 65.921875 \nQ 23.96875 65.921875 18.8125 64.3125 \nQ 13.671875 62.703125 7.8125 59.421875 \nL 7.8125 69.390625 \nQ 13.765625 71.78125 18.9375 73 \nQ 24.125 74.21875 28.421875 74.21875 \nQ 39.75 74.21875 46.484375 68.546875 \nQ 53.21875 62.890625 53.21875 53.421875 \nQ 53.21875 48.921875 51.53125 44.890625 \nQ 49.859375 40.875 45.40625 35.40625 \nQ 44.1875 33.984375 37.640625 27.21875 \nQ 31.109375 20.453125 19.1875 8.296875 \nz\n\" id=\"DejaVuSans-50\"/>\n       </defs>\n       <use xlink:href=\"#DejaVuSans-50\"/>\n      </g>\n     </g>\n    </g>\n    <g id=\"xtick_3\">\n     <g id=\"line2d_3\">\n      <g>\n       <use style=\"stroke:#000000;stroke-width:0.8;\" x=\"181.808949\" xlink:href=\"#m147498ea0e\" y=\"224.64\"/>\n      </g>\n     </g>\n     <g id=\"text_3\">\n      <!-- 4 -->\n      <g transform=\"translate(178.627699 239.238438)scale(0.1 -0.1)\">\n       <defs>\n        <path d=\"M 37.796875 64.3125 \nL 12.890625 25.390625 \nL 37.796875 25.390625 \nz\nM 35.203125 72.90625 \nL 47.609375 72.90625 \nL 47.609375 25.390625 \nL 58.015625 25.390625 \nL 58.015625 17.1875 \nL 47.609375 17.1875 \nL 47.609375 0 \nL 37.796875 0 \nL 37.796875 17.1875 \nL 4.890625 17.1875 \nL 4.890625 26.703125 \nz\n\" id=\"DejaVuSans-52\"/>\n       </defs>\n       <use xlink:href=\"#DejaVuSans-52\"/>\n      </g>\n     </g>\n    </g>\n    <g id=\"xtick_4\">\n     <g id=\"line2d_4\">\n      <g>\n       <use style=\"stroke:#000000;stroke-width:0.8;\" x=\"242.681676\" xlink:href=\"#m147498ea0e\" y=\"224.64\"/>\n      </g>\n     </g>\n     <g id=\"text_4\">\n      <!-- 6 -->\n      <g transform=\"translate(239.500426 239.238438)scale(0.1 -0.1)\">\n       <defs>\n        <path d=\"M 33.015625 40.375 \nQ 26.375 40.375 22.484375 35.828125 \nQ 18.609375 31.296875 18.609375 23.390625 \nQ 18.609375 15.53125 22.484375 10.953125 \nQ 26.375 6.390625 33.015625 6.390625 \nQ 39.65625 6.390625 43.53125 10.953125 \nQ 47.40625 15.53125 47.40625 23.390625 \nQ 47.40625 31.296875 43.53125 35.828125 \nQ 39.65625 40.375 33.015625 40.375 \nz\nM 52.59375 71.296875 \nL 52.59375 62.3125 \nQ 48.875 64.0625 45.09375 64.984375 \nQ 41.3125 65.921875 37.59375 65.921875 \nQ 27.828125 65.921875 22.671875 59.328125 \nQ 17.53125 52.734375 16.796875 39.40625 \nQ 19.671875 43.65625 24.015625 45.921875 \nQ 28.375 48.1875 33.59375 48.1875 \nQ 44.578125 48.1875 50.953125 41.515625 \nQ 57.328125 34.859375 57.328125 23.390625 \nQ 57.328125 12.15625 50.6875 5.359375 \nQ 44.046875 -1.421875 33.015625 -1.421875 \nQ 20.359375 -1.421875 13.671875 8.265625 \nQ 6.984375 17.96875 6.984375 36.375 \nQ 6.984375 53.65625 15.1875 63.9375 \nQ 23.390625 74.21875 37.203125 74.21875 \nQ 40.921875 74.21875 44.703125 73.484375 \nQ 48.484375 72.75 52.59375 71.296875 \nz\n\" id=\"DejaVuSans-54\"/>\n       </defs>\n       <use xlink:href=\"#DejaVuSans-54\"/>\n      </g>\n     </g>\n    </g>\n    <g id=\"xtick_5\">\n     <g id=\"line2d_5\">\n      <g>\n       <use style=\"stroke:#000000;stroke-width:0.8;\" x=\"303.554403\" xlink:href=\"#m147498ea0e\" y=\"224.64\"/>\n      </g>\n     </g>\n     <g id=\"text_5\">\n      <!-- 8 -->\n      <g transform=\"translate(300.373153 239.238438)scale(0.1 -0.1)\">\n       <defs>\n        <path d=\"M 31.78125 34.625 \nQ 24.75 34.625 20.71875 30.859375 \nQ 16.703125 27.09375 16.703125 20.515625 \nQ 16.703125 13.921875 20.71875 10.15625 \nQ 24.75 6.390625 31.78125 6.390625 \nQ 38.8125 6.390625 42.859375 10.171875 \nQ 46.921875 13.96875 46.921875 20.515625 \nQ 46.921875 27.09375 42.890625 30.859375 \nQ 38.875 34.625 31.78125 34.625 \nz\nM 21.921875 38.8125 \nQ 15.578125 40.375 12.03125 44.71875 \nQ 8.5 49.078125 8.5 55.328125 \nQ 8.5 64.0625 14.71875 69.140625 \nQ 20.953125 74.21875 31.78125 74.21875 \nQ 42.671875 74.21875 48.875 69.140625 \nQ 55.078125 64.0625 55.078125 55.328125 \nQ 55.078125 49.078125 51.53125 44.71875 \nQ 48 40.375 41.703125 38.8125 \nQ 48.828125 37.15625 52.796875 32.3125 \nQ 56.78125 27.484375 56.78125 20.515625 \nQ 56.78125 9.90625 50.3125 4.234375 \nQ 43.84375 -1.421875 31.78125 -1.421875 \nQ 19.734375 -1.421875 13.25 4.234375 \nQ 6.78125 9.90625 6.78125 20.515625 \nQ 6.78125 27.484375 10.78125 32.3125 \nQ 14.796875 37.15625 21.921875 38.8125 \nz\nM 18.3125 54.390625 \nQ 18.3125 48.734375 21.84375 45.5625 \nQ 25.390625 42.390625 31.78125 42.390625 \nQ 38.140625 42.390625 41.71875 45.5625 \nQ 45.3125 48.734375 45.3125 54.390625 \nQ 45.3125 60.0625 41.71875 63.234375 \nQ 38.140625 66.40625 31.78125 66.40625 \nQ 25.390625 66.40625 21.84375 63.234375 \nQ 18.3125 60.0625 18.3125 54.390625 \nz\n\" id=\"DejaVuSans-56\"/>\n       </defs>\n       <use xlink:href=\"#DejaVuSans-56\"/>\n      </g>\n     </g>\n    </g>\n    <g id=\"xtick_6\">\n     <g id=\"line2d_6\">\n      <g>\n       <use style=\"stroke:#000000;stroke-width:0.8;\" x=\"364.427131\" xlink:href=\"#m147498ea0e\" y=\"224.64\"/>\n      </g>\n     </g>\n     <g id=\"text_6\">\n      <!-- 10 -->\n      <g transform=\"translate(358.064631 239.238438)scale(0.1 -0.1)\">\n       <defs>\n        <path d=\"M 12.40625 8.296875 \nL 28.515625 8.296875 \nL 28.515625 63.921875 \nL 10.984375 60.40625 \nL 10.984375 69.390625 \nL 28.421875 72.90625 \nL 38.28125 72.90625 \nL 38.28125 8.296875 \nL 54.390625 8.296875 \nL 54.390625 0 \nL 12.40625 0 \nz\n\" id=\"DejaVuSans-49\"/>\n       </defs>\n       <use xlink:href=\"#DejaVuSans-49\"/>\n       <use x=\"63.623047\" xlink:href=\"#DejaVuSans-48\"/>\n      </g>\n     </g>\n    </g>\n   </g>\n   <g id=\"matplotlib.axis_2\">\n    <g id=\"ytick_1\">\n     <g id=\"line2d_7\">\n      <defs>\n       <path d=\"M 0 0 \nL -3.5 0 \n\" id=\"m19d871a879\" style=\"stroke:#000000;stroke-width:0.8;\"/>\n      </defs>\n      <g>\n       <use style=\"stroke:#000000;stroke-width:0.8;\" x=\"44.845313\" xlink:href=\"#m19d871a879\" y=\"214.76395\"/>\n      </g>\n     </g>\n     <g id=\"text_7\">\n      <!-- −1.00 -->\n      <g transform=\"translate(7.2 218.563169)scale(0.1 -0.1)\">\n       <defs>\n        <path d=\"M 10.59375 35.5 \nL 73.1875 35.5 \nL 73.1875 27.203125 \nL 10.59375 27.203125 \nz\n\" id=\"DejaVuSans-8722\"/>\n        <path d=\"M 10.6875 12.40625 \nL 21 12.40625 \nL 21 0 \nL 10.6875 0 \nz\n\" id=\"DejaVuSans-46\"/>\n       </defs>\n       <use xlink:href=\"#DejaVuSans-8722\"/>\n       <use x=\"83.789062\" xlink:href=\"#DejaVuSans-49\"/>\n       <use x=\"147.412109\" xlink:href=\"#DejaVuSans-46\"/>\n       <use x=\"179.199219\" xlink:href=\"#DejaVuSans-48\"/>\n       <use x=\"242.822266\" xlink:href=\"#DejaVuSans-48\"/>\n      </g>\n     </g>\n    </g>\n    <g id=\"ytick_2\">\n     <g id=\"line2d_8\">\n      <g>\n       <use style=\"stroke:#000000;stroke-width:0.8;\" x=\"44.845313\" xlink:href=\"#m19d871a879\" y=\"190.048642\"/>\n      </g>\n     </g>\n     <g id=\"text_8\">\n      <!-- −0.75 -->\n      <g transform=\"translate(7.2 193.847861)scale(0.1 -0.1)\">\n       <defs>\n        <path d=\"M 8.203125 72.90625 \nL 55.078125 72.90625 \nL 55.078125 68.703125 \nL 28.609375 0 \nL 18.3125 0 \nL 43.21875 64.59375 \nL 8.203125 64.59375 \nz\n\" id=\"DejaVuSans-55\"/>\n        <path d=\"M 10.796875 72.90625 \nL 49.515625 72.90625 \nL 49.515625 64.59375 \nL 19.828125 64.59375 \nL 19.828125 46.734375 \nQ 21.96875 47.46875 24.109375 47.828125 \nQ 26.265625 48.1875 28.421875 48.1875 \nQ 40.625 48.1875 47.75 41.5 \nQ 54.890625 34.8125 54.890625 23.390625 \nQ 54.890625 11.625 47.5625 5.09375 \nQ 40.234375 -1.421875 26.90625 -1.421875 \nQ 22.3125 -1.421875 17.546875 -0.640625 \nQ 12.796875 0.140625 7.71875 1.703125 \nL 7.71875 11.625 \nQ 12.109375 9.234375 16.796875 8.0625 \nQ 21.484375 6.890625 26.703125 6.890625 \nQ 35.15625 6.890625 40.078125 11.328125 \nQ 45.015625 15.765625 45.015625 23.390625 \nQ 45.015625 31 40.078125 35.4375 \nQ 35.15625 39.890625 26.703125 39.890625 \nQ 22.75 39.890625 18.8125 39.015625 \nQ 14.890625 38.140625 10.796875 36.28125 \nz\n\" id=\"DejaVuSans-53\"/>\n       </defs>\n       <use xlink:href=\"#DejaVuSans-8722\"/>\n       <use x=\"83.789062\" xlink:href=\"#DejaVuSans-48\"/>\n       <use x=\"147.412109\" xlink:href=\"#DejaVuSans-46\"/>\n       <use x=\"179.199219\" xlink:href=\"#DejaVuSans-55\"/>\n       <use x=\"242.822266\" xlink:href=\"#DejaVuSans-53\"/>\n      </g>\n     </g>\n    </g>\n    <g id=\"ytick_3\">\n     <g id=\"line2d_9\">\n      <g>\n       <use style=\"stroke:#000000;stroke-width:0.8;\" x=\"44.845313\" xlink:href=\"#m19d871a879\" y=\"165.333333\"/>\n      </g>\n     </g>\n     <g id=\"text_9\">\n      <!-- −0.50 -->\n      <g transform=\"translate(7.2 169.132552)scale(0.1 -0.1)\">\n       <use xlink:href=\"#DejaVuSans-8722\"/>\n       <use x=\"83.789062\" xlink:href=\"#DejaVuSans-48\"/>\n       <use x=\"147.412109\" xlink:href=\"#DejaVuSans-46\"/>\n       <use x=\"179.199219\" xlink:href=\"#DejaVuSans-53\"/>\n       <use x=\"242.822266\" xlink:href=\"#DejaVuSans-48\"/>\n      </g>\n     </g>\n    </g>\n    <g id=\"ytick_4\">\n     <g id=\"line2d_10\">\n      <g>\n       <use style=\"stroke:#000000;stroke-width:0.8;\" x=\"44.845313\" xlink:href=\"#m19d871a879\" y=\"140.618025\"/>\n      </g>\n     </g>\n     <g id=\"text_10\">\n      <!-- −0.25 -->\n      <g transform=\"translate(7.2 144.417244)scale(0.1 -0.1)\">\n       <use xlink:href=\"#DejaVuSans-8722\"/>\n       <use x=\"83.789062\" xlink:href=\"#DejaVuSans-48\"/>\n       <use x=\"147.412109\" xlink:href=\"#DejaVuSans-46\"/>\n       <use x=\"179.199219\" xlink:href=\"#DejaVuSans-50\"/>\n       <use x=\"242.822266\" xlink:href=\"#DejaVuSans-53\"/>\n      </g>\n     </g>\n    </g>\n    <g id=\"ytick_5\">\n     <g id=\"line2d_11\">\n      <g>\n       <use style=\"stroke:#000000;stroke-width:0.8;\" x=\"44.845313\" xlink:href=\"#m19d871a879\" y=\"115.902716\"/>\n      </g>\n     </g>\n     <g id=\"text_11\">\n      <!-- 0.00 -->\n      <g transform=\"translate(15.579688 119.701935)scale(0.1 -0.1)\">\n       <use xlink:href=\"#DejaVuSans-48\"/>\n       <use x=\"63.623047\" xlink:href=\"#DejaVuSans-46\"/>\n       <use x=\"95.410156\" xlink:href=\"#DejaVuSans-48\"/>\n       <use x=\"159.033203\" xlink:href=\"#DejaVuSans-48\"/>\n      </g>\n     </g>\n    </g>\n    <g id=\"ytick_6\">\n     <g id=\"line2d_12\">\n      <g>\n       <use style=\"stroke:#000000;stroke-width:0.8;\" x=\"44.845313\" xlink:href=\"#m19d871a879\" y=\"91.187408\"/>\n      </g>\n     </g>\n     <g id=\"text_12\">\n      <!-- 0.25 -->\n      <g transform=\"translate(15.579688 94.986627)scale(0.1 -0.1)\">\n       <use xlink:href=\"#DejaVuSans-48\"/>\n       <use x=\"63.623047\" xlink:href=\"#DejaVuSans-46\"/>\n       <use x=\"95.410156\" xlink:href=\"#DejaVuSans-50\"/>\n       <use x=\"159.033203\" xlink:href=\"#DejaVuSans-53\"/>\n      </g>\n     </g>\n    </g>\n    <g id=\"ytick_7\">\n     <g id=\"line2d_13\">\n      <g>\n       <use style=\"stroke:#000000;stroke-width:0.8;\" x=\"44.845313\" xlink:href=\"#m19d871a879\" y=\"66.472099\"/>\n      </g>\n     </g>\n     <g id=\"text_13\">\n      <!-- 0.50 -->\n      <g transform=\"translate(15.579688 70.271318)scale(0.1 -0.1)\">\n       <use xlink:href=\"#DejaVuSans-48\"/>\n       <use x=\"63.623047\" xlink:href=\"#DejaVuSans-46\"/>\n       <use x=\"95.410156\" xlink:href=\"#DejaVuSans-53\"/>\n       <use x=\"159.033203\" xlink:href=\"#DejaVuSans-48\"/>\n      </g>\n     </g>\n    </g>\n    <g id=\"ytick_8\">\n     <g id=\"line2d_14\">\n      <g>\n       <use style=\"stroke:#000000;stroke-width:0.8;\" x=\"44.845313\" xlink:href=\"#m19d871a879\" y=\"41.756791\"/>\n      </g>\n     </g>\n     <g id=\"text_14\">\n      <!-- 0.75 -->\n      <g transform=\"translate(15.579688 45.55601)scale(0.1 -0.1)\">\n       <use xlink:href=\"#DejaVuSans-48\"/>\n       <use x=\"63.623047\" xlink:href=\"#DejaVuSans-46\"/>\n       <use x=\"95.410156\" xlink:href=\"#DejaVuSans-55\"/>\n       <use x=\"159.033203\" xlink:href=\"#DejaVuSans-53\"/>\n      </g>\n     </g>\n    </g>\n    <g id=\"ytick_9\">\n     <g id=\"line2d_15\">\n      <g>\n       <use style=\"stroke:#000000;stroke-width:0.8;\" x=\"44.845313\" xlink:href=\"#m19d871a879\" y=\"17.041482\"/>\n      </g>\n     </g>\n     <g id=\"text_15\">\n      <!-- 1.00 -->\n      <g transform=\"translate(15.579688 20.840701)scale(0.1 -0.1)\">\n       <use xlink:href=\"#DejaVuSans-49\"/>\n       <use x=\"63.623047\" xlink:href=\"#DejaVuSans-46\"/>\n       <use x=\"95.410156\" xlink:href=\"#DejaVuSans-48\"/>\n       <use x=\"159.033203\" xlink:href=\"#DejaVuSans-48\"/>\n      </g>\n     </g>\n    </g>\n   </g>\n   <g id=\"line2d_16\">\n    <path clip-path=\"url(#pce118bae16)\" d=\"M 60.063494 115.902716 \nL 63.107131 106.033062 \nL 66.150767 96.262021 \nL 69.194403 86.687224 \nL 72.23804 77.404338 \nL 75.281676 68.506116 \nL 78.325313 60.081465 \nL 81.368949 52.214561 \nL 84.412585 44.984008 \nL 87.456222 38.462051 \nL 90.499858 32.713856 \nL 93.543494 27.796857 \nL 96.587131 23.760182 \nL 99.630767 20.644165 \nL 102.674403 18.47994 \nL 105.71804 17.289131 \nL 108.761676 17.083636 \nL 111.805313 17.865509 \nL 114.848949 19.626938 \nL 117.892585 22.350322 \nL 120.936222 26.008451 \nL 123.979858 30.564773 \nL 127.023494 35.973764 \nL 130.067131 42.181379 \nL 133.110767 49.125593 \nL 136.154403 56.737022 \nL 139.19804 64.939615 \nL 142.241676 73.651414 \nL 145.285313 82.785374 \nL 148.328949 92.250232 \nL 151.372585 101.951418 \nL 154.416222 111.792001 \nL 157.459858 121.673656 \nL 160.503494 131.49765 \nL 163.547131 141.165825 \nL 166.590767 150.581579 \nL 169.634403 159.650834 \nL 172.67804 168.282971 \nL 175.721676 176.391743 \nL 178.765313 183.896128 \nL 181.808949 190.721145 \nL 184.852585 196.798601 \nL 187.896222 202.067773 \nL 190.939858 206.476012 \nL 193.983494 209.979272 \nL 197.027131 212.54255 \nL 200.070767 214.140235 \nL 203.114403 214.756364 \nL 206.15804 214.384779 \nL 209.201676 213.029194 \nL 212.245313 210.703154 \nL 215.288949 207.429898 \nL 218.332585 203.242134 \nL 221.376222 198.181703 \nL 224.419858 192.299167 \nL 227.463494 185.653304 \nL 230.507131 178.310515 \nL 233.550767 170.344169 \nL 236.594403 161.833861 \nL 239.63804 152.864625 \nL 242.681676 143.526077 \nL 245.725313 133.911526 \nL 248.768949 124.117037 \nL 251.812585 114.240473 \nL 254.856222 104.380518 \nL 257.899858 94.635689 \nL 260.943494 85.103353 \nL 263.987131 75.878754 \nL 267.030767 67.054061 \nL 270.074403 58.717447 \nL 273.11804 50.95221 \nL 276.161676 43.835937 \nL 279.205313 37.439732 \nL 282.248949 31.827502 \nL 285.292585 27.055325 \nL 288.336222 23.170881 \nL 291.379858 20.212983 \nL 294.423494 18.211185 \nL 297.467131 17.185489 \nL 300.510767 17.146142 \nL 303.554403 18.093539 \nL 306.59804 20.018213 \nL 309.641676 22.900933 \nL 312.685313 26.712895 \nL 315.728949 31.416014 \nL 318.772585 36.963295 \nL 321.816222 43.299313 \nL 324.859858 50.36076 \nL 327.903494 58.077081 \nL 330.947131 66.371176 \nL 333.990767 75.160174 \nL 337.034403 84.356258 \nL 340.07804 93.867544 \nL 343.121676 103.598998 \nL 346.165313 113.453387 \nL 349.208949 123.332249 \nL 352.252585 133.136877 \nL 355.296222 142.769307 \nL 358.339858 152.133295 \nL 361.383494 161.135279 \nL 364.427131 169.685315 \n\" style=\"fill:none;stroke:#1f77b4;stroke-linecap:square;stroke-width:1.5;\"/>\n   </g>\n   <g id=\"patch_3\">\n    <path d=\"M 44.845313 224.64 \nL 44.845313 7.2 \n\" style=\"fill:none;stroke:#000000;stroke-linecap:square;stroke-linejoin:miter;stroke-width:0.8;\"/>\n   </g>\n   <g id=\"patch_4\">\n    <path d=\"M 379.645313 224.64 \nL 379.645313 7.2 \n\" style=\"fill:none;stroke:#000000;stroke-linecap:square;stroke-linejoin:miter;stroke-width:0.8;\"/>\n   </g>\n   <g id=\"patch_5\">\n    <path d=\"M 44.845313 224.64 \nL 379.645313 224.64 \n\" style=\"fill:none;stroke:#000000;stroke-linecap:square;stroke-linejoin:miter;stroke-width:0.8;\"/>\n   </g>\n   <g id=\"patch_6\">\n    <path d=\"M 44.845313 7.2 \nL 379.645313 7.2 \n\" style=\"fill:none;stroke:#000000;stroke-linecap:square;stroke-linejoin:miter;stroke-width:0.8;\"/>\n   </g>\n  </g>\n </g>\n <defs>\n  <clipPath id=\"pce118bae16\">\n   <rect height=\"217.44\" width=\"334.8\" x=\"44.845313\" y=\"7.2\"/>\n  </clipPath>\n </defs>\n</svg>\n",
      "image/png": "[encoded data removed]"
     },
     "metadata": {
      "needs_background": "light"
     }
    }
   ],
   "metadata": {}
  },
  {
   "cell_type": "code",
   "execution_count": null,
   "source": [],
   "outputs": [],
   "metadata": {}
  },
  {
   "cell_type": "code",
   "execution_count": null,
   "source": [],
   "outputs": [],
   "metadata": {}
  },
  {
   "cell_type": "code",
   "execution_count": 53,
   "source": [],
   "outputs": [
    {
     "output_type": "error",
     "ename": "ImportError",
     "evalue": "cannot import name 'data' from 'Deep_Gp' (/home/sai/Auto/Deep_Gp.py)",
     "traceback": [
      "\u001b[0;31m---------------------------------------------------------------------------\u001b[0m",
      "\u001b[0;31mImportError\u001b[0m                               Traceback (most recent call last)",
      "\u001b[0;32m<ipython-input-53-86f7f4dd9aba>\u001b[0m in \u001b[0;36m<module>\u001b[0;34m\u001b[0m\n\u001b[0;32m----> 1\u001b[0;31m \u001b[0;32mfrom\u001b[0m \u001b[0mDeep_Gp\u001b[0m \u001b[0;32mimport\u001b[0m \u001b[0mdata\u001b[0m\u001b[0;34m\u001b[0m\u001b[0;34m\u001b[0m\u001b[0m\n\u001b[0m\u001b[1;32m      2\u001b[0m \u001b[0;32mwith\u001b[0m \u001b[0mopen\u001b[0m\u001b[0;34m(\u001b[0m\u001b[0;34m'Human_Auto.yaml'\u001b[0m\u001b[0;34m)\u001b[0m \u001b[0;32mas\u001b[0m \u001b[0mFile\u001b[0m\u001b[0;34m:\u001b[0m \u001b[0;31m#linear error\u001b[0m\u001b[0;34m\u001b[0m\u001b[0;34m\u001b[0m\u001b[0m\n\u001b[1;32m      3\u001b[0m     \u001b[0md\u001b[0m \u001b[0;34m=\u001b[0m \u001b[0myaml\u001b[0m\u001b[0;34m.\u001b[0m\u001b[0mload\u001b[0m\u001b[0;34m(\u001b[0m\u001b[0mFile\u001b[0m\u001b[0;34m,\u001b[0m \u001b[0mLoader\u001b[0m\u001b[0;34m=\u001b[0m\u001b[0myaml\u001b[0m\u001b[0;34m.\u001b[0m\u001b[0mFullLoader\u001b[0m\u001b[0;34m)\u001b[0m\u001b[0;34m\u001b[0m\u001b[0;34m\u001b[0m\u001b[0m\n\u001b[1;32m      4\u001b[0m \u001b[0;34m\u001b[0m\u001b[0m\n\u001b[1;32m      5\u001b[0m \u001b[0mkk\u001b[0m \u001b[0;34m=\u001b[0m \u001b[0mdata\u001b[0m\u001b[0;34m(\u001b[0m\u001b[0mdic\u001b[0m \u001b[0;34m=\u001b[0m \u001b[0md\u001b[0m\u001b[0;34m,\u001b[0m \u001b[0mTheta_h\u001b[0m\u001b[0;34m=\u001b[0m\u001b[0mcos\u001b[0m\u001b[0;34m,\u001b[0m  \u001b[0mTheta_a\u001b[0m\u001b[0;34m=\u001b[0m \u001b[0msin\u001b[0m\u001b[0;34m)\u001b[0m\u001b[0;34m\u001b[0m\u001b[0;34m\u001b[0m\u001b[0m\n",
      "\u001b[0;31mImportError\u001b[0m: cannot import name 'data' from 'Deep_Gp' (/home/sai/Auto/Deep_Gp.py)"
     ]
    }
   ],
   "metadata": {}
  },
  {
   "cell_type": "code",
   "execution_count": 49,
   "source": [],
   "outputs": [
    {
     "output_type": "execute_result",
     "data": {
      "text/plain": [
       "'/home/sai/Auto'"
      ]
     },
     "metadata": {},
     "execution_count": 49
    }
   ],
   "metadata": {}
  },
  {
   "cell_type": "code",
   "execution_count": null,
   "source": [],
   "outputs": [],
   "metadata": {}
  },
  {
   "cell_type": "code",
   "execution_count": null,
   "source": [],
   "outputs": [],
   "metadata": {}
  }
 ],
 "metadata": {
  "orig_nbformat": 4,
  "language_info": {
   "name": "python",
   "version": "3.8.10",
   "mimetype": "text/x-python",
   "codemirror_mode": {
    "name": "ipython",
    "version": 3
   },
   "pygments_lexer": "ipython3",
   "nbconvert_exporter": "python",
   "file_extension": ".py"
  },
  "kernelspec": {
   "name": "python3",
   "display_name": "Python 3.8.10 64-bit"
  },
  "interpreter": {
   "hash": "916dbcbb3f70747c44a77c7bcd40155683ae19c65e1c03b4aa3499c5328201f1"
  }
 },
 "nbformat": 4,
 "nbformat_minor": 2
}